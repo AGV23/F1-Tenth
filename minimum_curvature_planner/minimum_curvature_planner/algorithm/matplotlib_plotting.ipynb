{
 "cells": [
  {
   "cell_type": "code",
   "execution_count": null,
   "metadata": {},
   "outputs": [],
   "source": [
    "import numpy as np\n",
    "import matplotlib.pyplot as plt\n",
    "from scipy.interpolate import CubicSpline"
   ]
  },
  {
   "cell_type": "code",
   "execution_count": null,
   "metadata": {},
   "outputs": [],
   "source": [
    "def matplotlib_visualize_splines(points: np.ndarray, line_label: str, points_label: str, is_loop: bool = False):\n",
    "    if is_loop:\n",
    "        points = np.vstack([points, points[0]])\n",
    "    \n",
    "    # Define the parametric points (x and y coordinates)\n",
    "    t_points = np.arange(points.shape[0])\n",
    "    x_points = np.array(points[:, 0])\n",
    "    y_points = np.array(points[:, 1])\n",
    "\n",
    "    # Create parametric cubic splines for x(t) and y(t)\n",
    "    bc_type = 'periodic' if is_loop else 'not-a-knot'\n",
    "    spline_x = CubicSpline(t_points, x_points, bc_type=bc_type)\n",
    "    spline_y = CubicSpline(t_points, y_points, bc_type=bc_type)\n",
    "\n",
    "    # Generate values of t for plotting the spline\n",
    "    t_fine = np.linspace(t_points[0], t_points[-1], 100)\n",
    "\n",
    "    # Evaluate the splines to get the points on the curve\n",
    "    x_fine = spline_x(t_fine)\n",
    "    y_fine = spline_y(t_fine)\n",
    "\n",
    "    # Plot the parametric spline\n",
    "    plt.plot(x_fine, y_fine, label=line_label)\n",
    "    plt.plot(x_points, y_points, 'o', label=points_label)\n",
    "    plt.xlabel('x')\n",
    "    plt.ylabel('y')\n",
    "    plt.legend()\n",
    "    plt.grid(True)\n",
    "    plt.axis('equal')  # Ensure the x and y axes have the same scale\n"
   ]
  },
  {
   "cell_type": "code",
   "execution_count": null,
   "metadata": {},
   "outputs": [],
   "source": [
    "from matrices import *\n",
    "\n",
    "nx1, ny1 = 0, -1\n",
    "nx2 , ny2 = 1, 0\n",
    "nx3, ny3 = 0, 1\n",
    "nx4, ny4 = -1, 0\n",
    "\n",
    "x1, y1 = 0, -9\n",
    "\n",
    "x2, y2 = 5, 0\n",
    "\n",
    "x3, y3 = 0, 5\n",
    "\n",
    "x4, y4 = -9, 0\n",
    "\n",
    "points = np.array([[x1, y1], [x2, y2], [x3, y3], [x4, y4]], dtype=np.float64)\n",
    "plt.title('Parametric Spline')\n",
    "matplotlib_visualize_splines(points, 'Parametric Spline from scipy', 'Control Points: parametric spline from scipy', True)\n",
    "plt.show()"
   ]
  },
  {
   "cell_type": "code",
   "execution_count": null,
   "metadata": {},
   "outputs": [],
   "source": [
    "from perception_data import Centreline\n",
    "from matrices import *\n",
    "\n",
    "centreline = Centreline(4, points, 0.5*np.ones(4), 0.2)\n",
    "\n",
    "def coords(t, a, b, c, d):\n",
    "    t_floor = np.int32(t)\n",
    "    t_frac = t - t_floor\n",
    "    return np.array([ (a[I] + b[I]*f + c[I]*f**2 + d[I]*f**3) for i in range(t.shape[0]) if (I := (t_floor[i])%(a.shape[0]), f := t_frac[i]) ])\n",
    "\n",
    "def implemented_visualize_splines(points: np.ndarray, line_label: str, points_label: str, show_control_points: bool = False, dashed: bool = False):\n",
    "    Ainv = matAInv(points.shape[0])\n",
    "    centreline = Centreline(points.shape[0], points, None, None)\n",
    "    abcd_x = (Ainv @ q_comp(centreline, 0)).reshape((-1, 4))\n",
    "    abcd_y = (Ainv @ q_comp(centreline, 1)).reshape((-1, 4))\n",
    "\n",
    "    # Define the parametric points (x and y coordinates)\n",
    "    t_points = np.arange(points.shape[0])\n",
    "    x_points = np.array(points[:, 0])\n",
    "    y_points = np.array(points[:, 1])\n",
    "\n",
    "    # Generate values of t for plotting the spline\n",
    "    t_fine = np.linspace(t_points[0], t_points[-1] + 1, 1000)\n",
    "\n",
    "    # Evaluate the splines to get the points on the curve\n",
    "    x_fine = coords(t_fine, abcd_x[:, 0], abcd_x[:, 1], abcd_x[:, 2], abcd_x[:, 3])\n",
    "    y_fine = coords(t_fine, abcd_y[:, 0], abcd_y[:, 1], abcd_y[:, 2], abcd_y[:, 3])\n",
    "\n",
    "    # Plot the parametric spline\n",
    "    if dashed: plt.plot(x_fine, y_fine, '--', label=line_label)\n",
    "    else: plt.plot(x_fine, y_fine, label=line_label)\n",
    "    if show_control_points: plt.plot(x_points, y_points, 'o', label=points_label)\n",
    "    plt.xlabel('x')\n",
    "    plt.ylabel('y')\n",
    "    plt.legend()\n",
    "    plt.grid(True)\n",
    "    plt.axis('equal')  # Ensure the x and y axes have the same scale\n",
    "\n",
    "plt.title('Race track centreline')\n",
    "implemented_visualize_splines(centreline.p, 'Parametric Spline: from implementation', 'Control Points', True)\n",
    "plt.show()"
   ]
  },
  {
   "cell_type": "code",
   "execution_count": null,
   "metadata": {},
   "outputs": [],
   "source": [
    "import cvxpy as cp"
   ]
  },
  {
   "cell_type": "code",
   "execution_count": null,
   "metadata": {},
   "outputs": [],
   "source": [
    "from solve_qp import solve_for_alpha\n",
    "\n",
    "alpha = solve_for_alpha(centreline)"
   ]
  },
  {
   "cell_type": "code",
   "execution_count": null,
   "metadata": {},
   "outputs": [],
   "source": [
    "def points_raceline(centreline: Centreline, alpha: np.ndarray):\n",
    "    return centreline.p + centreline.n * np.repeat(alpha, 2, axis=0).reshape((-1, 2)) "
   ]
  },
  {
   "cell_type": "code",
   "execution_count": null,
   "metadata": {},
   "outputs": [],
   "source": [
    "def visualize_solution(centreline: Centreline, points_raceline: np.ndarray):\n",
    "    plt.figure(figsize=(10, 10))\n",
    "    plt.title('Minimum Curvature Plan')\n",
    "    points_centreline = centreline.p\n",
    "    points_boundary_max = centreline.p + centreline.n * np.repeat(centreline.half_w_tr, 2, axis=0).reshape((-1, 2)) \n",
    "    points_boundary_min = centreline.p - centreline.n * np.repeat(centreline.half_w_tr, 2, axis=0).reshape((-1, 2)) \n",
    "    # matplotlib_visualize_splines(points_centreline, True)\n",
    "    # matplotlib_visualize_splines(points_boundary_max, 'Outer boundary from scipy', 'Control Points: Outer boundary from scipy', True)\n",
    "    # matplotlib_visualize_splines(points_boundary_min, 'Inner boundary from scipy', 'Control Points: Inner boundary from scipy', True)\n",
    "    # matplotlib_visualize_splines(points_raceline, 'Raceline from scipy', 'Control Points: Raceline from scipy', True)\n",
    "    implemented_visualize_splines(points_centreline, 'Centreline from implementation', 'Control Points: Centreline from implementation', dashed=True)\n",
    "    implemented_visualize_splines(points_boundary_max, 'Outer boundary from implementation', 'Control Points: Outer boundary from implementation')\n",
    "    implemented_visualize_splines(points_boundary_min, 'Inner boundary from implementation', 'Control Points: Inner boundary from implementation')\n",
    "    implemented_visualize_splines(points_raceline, 'Raceline from implementation', 'Control Points: Raceline from implementation')\n",
    "    plt.show()\n",
    "\n",
    "visualize_solution(centreline, points_raceline(centreline, alpha))"
   ]
  },
  {
   "cell_type": "code",
   "execution_count": null,
   "metadata": {},
   "outputs": [],
   "source": [
    "from export_solution import export_solution\n",
    "\n",
    "export_solution(points_raceline(centreline, alpha), 'waypoints3.json', format='json')"
   ]
  },
  {
   "cell_type": "code",
   "execution_count": null,
   "metadata": {},
   "outputs": [],
   "source": [
    "from csv_reader import centreline_from_csv\n",
    "\n",
    "centreline = centreline_from_csv(1.0, '../../maps/Spielberg_centerline.csv')\n",
    "# centreline = centreline_from_csv(1.0, '../../maps/Budapest_centerline.csv')\n",
    "\n",
    "# Run the last 4 cells again to visualize the raceline and export the waypoints to a json file"
   ]
  },
  {
   "cell_type": "code",
   "execution_count": null,
   "metadata": {},
   "outputs": [],
   "source": []
  }
 ],
 "metadata": {
  "kernelspec": {
   "display_name": "pygame",
   "language": "python",
   "name": "python3"
  },
  "language_info": {
   "codemirror_mode": {
    "name": "ipython",
    "version": 3
   },
   "file_extension": ".py",
   "mimetype": "text/x-python",
   "name": "python",
   "nbconvert_exporter": "python",
   "pygments_lexer": "ipython3",
   "version": "3.12.3"
  }
 },
 "nbformat": 4,
 "nbformat_minor": 2
}
